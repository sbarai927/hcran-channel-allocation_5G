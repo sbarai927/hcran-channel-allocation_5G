import matplotlib.pyplot as plt
from matplotlib.patches import Circle, Rectangle

fig, ax = plt.subplots(figsize=(9, 6))
ax.set_aspect("equal")
ax.set_xlim(0, 1000)
ax.set_ylim(0, 700)
ax.axis("off")                           # hide axes

# --------------------------------------------------------------------- #
# 1.  helper to draw one circular cell + emoji label
# --------------------------------------------------------------------- #
def draw_cell(x, y, r, label, emoji="📡", lw=1.3):
    ax.add_patch(Circle((x, y), r, fill=False, lw=lw))
    ax.text(x, y, f"{emoji}\n{label}", ha="center", va="center", fontsize=9)

# --------------------------------------------------------------------- #
# 2.  node coordinates  (edit to taste)
# --------------------------------------------------------------------- #
macro = dict(Macro1=(120,520), Macro2=(350,480),
             Macro3=(820,560), Macro4=(520,160))
micro = dict(micro=(120,100),  micro1=(870,200), micro2=(870,500))
pico  = dict(pico=(600,280),   pico2=(660,380))
ue    = {0:(50,50), 1:(280,90), 2:(930,230), 3:(790,450), 4:(350,430),
         5:(480,110), 6:(540,190), 7:(720,520), 8:(820,620), 9:(240,530)}

# --------------------------------------------------------------------- #
# 3.  draw all cells
# --------------------------------------------------------------------- #
for name,(x,y) in macro.items():  draw_cell(x,y,300,name,"🗼")      # macro
for name,(x,y) in micro.items():  draw_cell(x,y,180,name,"📶")      # micro
for name,(x,y) in pico.items():   draw_cell(x,y,120,name,"🔵")      # pico

# draw UEs as small phone emoji
for i,(x,y) in ue.items():
    ax.text(x, y, f"📱 ue[{i}]", fontsize=8, ha="center", va="center")

# --------------------------------------------------------------------- #
# 4.  links between nodes  (each tuple is (x1,y1,x2,y2,label))
# --------------------------------------------------------------------- #
links = [
    # wired / logical links as in the paper screenshot
    (*macro["Macro1"], *macro["Macro4"], "eth4"),
    (*macro["Macro2"], *macro["Macro3"], "eth3"),
    (*macro["Macro2"], *ue[0]          , "eth2"),
]
for x1,y1,x2,y2,label in links:
    ax.plot([x1,x2], [y1,y2], lw=1.0, color="k")
    midx, midy = (x1+x2)/2, (y1+y2)/2
    ax.text(midx, midy, label, fontsize=7, backgroundcolor="white")

# --------------------------------------------------------------------- #
# 5.  fancy outer border (optional, mimics green frame)
# --------------------------------------------------------------------- #
ax.add_patch(Rectangle((0,0),1000,700, fill=False, lw=2, edgecolor="#4CAF50"))

plt.title("H-CRAN Topology", fontsize=14, pad=12)
plt.tight_layout()
plt.show()

# optional save
plt.savefig("images/topology_hcran.png", dpi=300)






